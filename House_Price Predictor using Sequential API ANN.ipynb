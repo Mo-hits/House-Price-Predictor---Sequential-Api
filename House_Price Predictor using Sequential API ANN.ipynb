{
  "nbformat": 4,
  "nbformat_minor": 0,
  "metadata": {
    "colab": {
      "name": "Untitled9.ipynb",
      "provenance": [],
      "collapsed_sections": []
    },
    "kernelspec": {
      "name": "python3",
      "display_name": "Python 3"
    },
    "language_info": {
      "name": "python"
    }
  },
  "cells": [
    {
      "cell_type": "markdown",
      "metadata": {
        "id": "4UatdmRDfPGO"
      },
      "source": [
        "# **Creating** **Model** **using** **Sequentail** **API** - **Artificial** **Neural** **Network**\n"
      ]
    },
    {
      "cell_type": "markdown",
      "metadata": {
        "id": "-2wytvGJfyb0"
      },
      "source": [
        "*Predicting* *price* - *Using* *housing* *California* *Dataset*"
      ]
    },
    {
      "cell_type": "code",
      "metadata": {
        "id": "Fpy1_2VxJHLI"
      },
      "source": [
        "#importing all modules \n",
        "import numpy as np\n",
        "import pandas as pd\n",
        "%matplotlib inline\n",
        "import matplotlib as mpl\n",
        "import matplotlib.pyplot as plt"
      ],
      "execution_count": 1,
      "outputs": []
    },
    {
      "cell_type": "code",
      "metadata": {
        "id": "m_y7J8siJtpB"
      },
      "source": [
        "#importing tensorflow and keras\n",
        "import tensorflow as tf\n",
        "from tensorflow import keras"
      ],
      "execution_count": 2,
      "outputs": []
    },
    {
      "cell_type": "code",
      "metadata": {
        "colab": {
          "base_uri": "https://localhost:8080/"
        },
        "id": "G4LRe9uoJ6Ob",
        "outputId": "8177fd31-15ee-479f-9969-60e746af5079"
      },
      "source": [
        "#importing housing california dataset \n",
        "from sklearn.datasets import fetch_california_housing\n",
        "#creating object for dataset\n",
        "housing = fetch_california_housing() "
      ],
      "execution_count": 3,
      "outputs": [
        {
          "output_type": "stream",
          "text": [
            "Downloading Cal. housing from https://ndownloader.figshare.com/files/5976036 to /root/scikit_learn_data\n"
          ],
          "name": "stderr"
        }
      ]
    },
    {
      "cell_type": "code",
      "metadata": {
        "id": "aNP4gPq1KR6K"
      },
      "source": [
        "# the data set has MedInc - median income in block, HouseAge - median house age in block, AvgRoom - average number of rooms, \n",
        "#AvgBedroom - average number of bedroom, Population - block population, AvgOccup - average house occupancy\n",
        "#Lattitute - house lattitude , Longitude - House longitude\n",
        "#the target variable is median house value in unit of 100,000 for california district"
      ],
      "execution_count": 4,
      "outputs": []
    },
    {
      "cell_type": "code",
      "metadata": {
        "colab": {
          "base_uri": "https://localhost:8080/"
        },
        "id": "z7mlaalwMlry",
        "outputId": "d303c87e-5dec-4ac9-cc2b-819f66537463"
      },
      "source": [
        "#data set is in the form of dictionary\n",
        "#checking key for value in data set\n",
        "print(housing.feature_names)"
      ],
      "execution_count": 5,
      "outputs": [
        {
          "output_type": "stream",
          "text": [
            "['MedInc', 'HouseAge', 'AveRooms', 'AveBedrms', 'Population', 'AveOccup', 'Latitude', 'Longitude']\n"
          ],
          "name": "stdout"
        }
      ]
    },
    {
      "cell_type": "code",
      "metadata": {
        "id": "rbmAdAwRNQsZ"
      },
      "source": [
        "from sklearn.model_selection import train_test_split\n",
        "#spliiting the data set in test and train data set\n",
        "#by default it will split in 75 : 25 ratio\n",
        "X_train_full , X_test, y_train_full, y_test = train_test_split(housing.data, housing.target, random_state = 42)\n",
        "#splitting train data set into train and validation data set\n",
        "X_train, X_valid, y_train, y_valid = train_test_split(X_train_full, y_train_full, random_state = 42)"
      ],
      "execution_count": 6,
      "outputs": []
    },
    {
      "cell_type": "code",
      "metadata": {
        "id": "5FiCn6G_PqFh"
      },
      "source": [
        "#data pre processing\n",
        "#standardizing our data \n",
        "from sklearn.preprocessing import StandardScaler\n",
        "#creating object of standard scalar\n",
        "scaler = StandardScaler()\n",
        "#training scaler object with training data\n",
        "X_train = scaler.fit_transform(X_train)\n",
        "X_valid = scaler.fit_transform(X_valid)\n",
        "X_test = scaler.fit_transform(X_test)"
      ],
      "execution_count": 28,
      "outputs": []
    },
    {
      "cell_type": "code",
      "metadata": {
        "id": "gKlL59qyRytR"
      },
      "source": [
        "np.random.seed(42)\n",
        "tf.random.set_seed(42)"
      ],
      "execution_count": 9,
      "outputs": []
    },
    {
      "cell_type": "code",
      "metadata": {
        "colab": {
          "base_uri": "https://localhost:8080/"
        },
        "id": "JD-3JC_YSWq_",
        "outputId": "7fab3aec-98d8-411d-aea1-ee47abcaa92f"
      },
      "source": [
        "#checking our training data\n",
        "X_train.shape"
      ],
      "execution_count": 29,
      "outputs": [
        {
          "output_type": "execute_result",
          "data": {
            "text/plain": [
              "(11610, 8)"
            ]
          },
          "metadata": {
            "tags": []
          },
          "execution_count": 29
        }
      ]
    },
    {
      "cell_type": "code",
      "metadata": {
        "id": "05zUeOrNScs_"
      },
      "source": [
        "#creating our model\n",
        "model = keras.models.Sequential([\n",
        "    keras.layers.Dense(30, activation=\"relu\", input_shape = [8]),\n",
        "    keras.layers.Dense(30, activation=\"relu\"),\n",
        "    keras.layers.Dense(1)\n",
        "])\n",
        "#for input_shape we can also write X_train.shape[1:]"
      ],
      "execution_count": 30,
      "outputs": []
    },
    {
      "cell_type": "code",
      "metadata": {
        "colab": {
          "base_uri": "https://localhost:8080/"
        },
        "id": "BrdkEjzBTspJ",
        "outputId": "8f5274af-a929-40aa-c935-c5933a009e30"
      },
      "source": [
        "model.summary()"
      ],
      "execution_count": 31,
      "outputs": [
        {
          "output_type": "stream",
          "text": [
            "Model: \"sequential_1\"\n",
            "_________________________________________________________________\n",
            "Layer (type)                 Output Shape              Param #   \n",
            "=================================================================\n",
            "dense_3 (Dense)              (None, 30)                270       \n",
            "_________________________________________________________________\n",
            "dense_4 (Dense)              (None, 30)                930       \n",
            "_________________________________________________________________\n",
            "dense_5 (Dense)              (None, 1)                 31        \n",
            "=================================================================\n",
            "Total params: 1,231\n",
            "Trainable params: 1,231\n",
            "Non-trainable params: 0\n",
            "_________________________________________________________________\n"
          ],
          "name": "stdout"
        }
      ]
    },
    {
      "cell_type": "code",
      "metadata": {
        "id": "3KF7uerTTuyH"
      },
      "source": [
        "model.compile(loss=\"mean_squared_error\",\n",
        "              optimizer = keras.optimizers.SGD(learning_rate= 1e-3),\n",
        "              metrics = ['mae'])"
      ],
      "execution_count": 32,
      "outputs": []
    },
    {
      "cell_type": "code",
      "metadata": {
        "colab": {
          "base_uri": "https://localhost:8080/"
        },
        "id": "ycyXIdgtUabh",
        "outputId": "524415ce-4b69-439c-dfae-e2dc7819e6bb"
      },
      "source": [
        "model_history = model.fit(X_train, y_train, epochs = 30, validation_data=(X_valid, y_valid))"
      ],
      "execution_count": 36,
      "outputs": [
        {
          "output_type": "stream",
          "text": [
            "Epoch 1/30\n",
            "363/363 [==============================] - 1s 2ms/step - loss: 0.3784 - mae: 0.4397 - val_loss: 0.4362 - val_mae: 0.4741\n",
            "Epoch 2/30\n",
            "363/363 [==============================] - 1s 2ms/step - loss: 0.3772 - mae: 0.4384 - val_loss: 0.4372 - val_mae: 0.4810\n",
            "Epoch 3/30\n",
            "363/363 [==============================] - 1s 2ms/step - loss: 0.3759 - mae: 0.4383 - val_loss: 0.4351 - val_mae: 0.4743\n",
            "Epoch 4/30\n",
            "363/363 [==============================] - 1s 1ms/step - loss: 0.3743 - mae: 0.4367 - val_loss: 0.4359 - val_mae: 0.4793\n",
            "Epoch 5/30\n",
            "363/363 [==============================] - 1s 2ms/step - loss: 0.3735 - mae: 0.4361 - val_loss: 0.4330 - val_mae: 0.4751\n",
            "Epoch 6/30\n",
            "363/363 [==============================] - 1s 2ms/step - loss: 0.3719 - mae: 0.4353 - val_loss: 0.4330 - val_mae: 0.4732\n",
            "Epoch 7/30\n",
            "363/363 [==============================] - 1s 1ms/step - loss: 0.3712 - mae: 0.4344 - val_loss: 0.4320 - val_mae: 0.4737\n",
            "Epoch 8/30\n",
            "363/363 [==============================] - 1s 2ms/step - loss: 0.3701 - mae: 0.4340 - val_loss: 0.4295 - val_mae: 0.4696\n",
            "Epoch 9/30\n",
            "363/363 [==============================] - 1s 2ms/step - loss: 0.3690 - mae: 0.4332 - val_loss: 0.4293 - val_mae: 0.4690\n",
            "Epoch 10/30\n",
            "363/363 [==============================] - 1s 2ms/step - loss: 0.3680 - mae: 0.4324 - val_loss: 0.4277 - val_mae: 0.4669\n",
            "Epoch 11/30\n",
            "363/363 [==============================] - 1s 2ms/step - loss: 0.3673 - mae: 0.4317 - val_loss: 0.4278 - val_mae: 0.4686\n",
            "Epoch 12/30\n",
            "363/363 [==============================] - 1s 1ms/step - loss: 0.3663 - mae: 0.4308 - val_loss: 0.4264 - val_mae: 0.4674\n",
            "Epoch 13/30\n",
            "363/363 [==============================] - 1s 2ms/step - loss: 0.3654 - mae: 0.4303 - val_loss: 0.4269 - val_mae: 0.4718\n",
            "Epoch 14/30\n",
            "363/363 [==============================] - 1s 2ms/step - loss: 0.3645 - mae: 0.4295 - val_loss: 0.4268 - val_mae: 0.4713\n",
            "Epoch 15/30\n",
            "363/363 [==============================] - 1s 2ms/step - loss: 0.3638 - mae: 0.4294 - val_loss: 0.4245 - val_mae: 0.4689\n",
            "Epoch 16/30\n",
            "363/363 [==============================] - 1s 2ms/step - loss: 0.3628 - mae: 0.4289 - val_loss: 0.4247 - val_mae: 0.4683\n",
            "Epoch 17/30\n",
            "363/363 [==============================] - 1s 1ms/step - loss: 0.3621 - mae: 0.4282 - val_loss: 0.4244 - val_mae: 0.4671\n",
            "Epoch 18/30\n",
            "363/363 [==============================] - 1s 2ms/step - loss: 0.3618 - mae: 0.4278 - val_loss: 0.4243 - val_mae: 0.4653\n",
            "Epoch 19/30\n",
            "363/363 [==============================] - 1s 1ms/step - loss: 0.3606 - mae: 0.4268 - val_loss: 0.4241 - val_mae: 0.4657\n",
            "Epoch 20/30\n",
            "363/363 [==============================] - 1s 2ms/step - loss: 0.3601 - mae: 0.4265 - val_loss: 0.4230 - val_mae: 0.4682\n",
            "Epoch 21/30\n",
            "363/363 [==============================] - 1s 2ms/step - loss: 0.3594 - mae: 0.4261 - val_loss: 0.4237 - val_mae: 0.4701\n",
            "Epoch 22/30\n",
            "363/363 [==============================] - 1s 2ms/step - loss: 0.3587 - mae: 0.4257 - val_loss: 0.4243 - val_mae: 0.4719\n",
            "Epoch 23/30\n",
            "363/363 [==============================] - 1s 2ms/step - loss: 0.3581 - mae: 0.4258 - val_loss: 0.4218 - val_mae: 0.4594\n",
            "Epoch 24/30\n",
            "363/363 [==============================] - 1s 2ms/step - loss: 0.3573 - mae: 0.4242 - val_loss: 0.4228 - val_mae: 0.4650\n",
            "Epoch 25/30\n",
            "363/363 [==============================] - 1s 2ms/step - loss: 0.3566 - mae: 0.4244 - val_loss: 0.4204 - val_mae: 0.4625\n",
            "Epoch 26/30\n",
            "363/363 [==============================] - 1s 2ms/step - loss: 0.3562 - mae: 0.4237 - val_loss: 0.4202 - val_mae: 0.4642\n",
            "Epoch 27/30\n",
            "363/363 [==============================] - 1s 2ms/step - loss: 0.3558 - mae: 0.4236 - val_loss: 0.4191 - val_mae: 0.4616\n",
            "Epoch 28/30\n",
            "363/363 [==============================] - 1s 2ms/step - loss: 0.3551 - mae: 0.4227 - val_loss: 0.4200 - val_mae: 0.4663\n",
            "Epoch 29/30\n",
            "363/363 [==============================] - 1s 2ms/step - loss: 0.3546 - mae: 0.4225 - val_loss: 0.4197 - val_mae: 0.4659\n",
            "Epoch 30/30\n",
            "363/363 [==============================] - 1s 2ms/step - loss: 0.3537 - mae: 0.4221 - val_loss: 0.4199 - val_mae: 0.4627\n"
          ],
          "name": "stdout"
        }
      ]
    },
    {
      "cell_type": "code",
      "metadata": {
        "colab": {
          "base_uri": "https://localhost:8080/"
        },
        "id": "FGWbMFJIVa4v",
        "outputId": "d1473e78-d592-49a0-afdd-bdaf0586bfab"
      },
      "source": [
        "#evaualating model performance with test data set\n",
        "#mae - mean absolute error\n",
        "mae_test = model.evaluate(X_test, y_test)"
      ],
      "execution_count": 37,
      "outputs": [
        {
          "output_type": "stream",
          "text": [
            "162/162 [==============================] - 0s 919us/step - loss: 0.3813 - mae: 0.4459\n"
          ],
          "name": "stdout"
        }
      ]
    },
    {
      "cell_type": "code",
      "metadata": {
        "id": "6rLXNL-lW-KH"
      },
      "source": [
        ""
      ],
      "execution_count": 34,
      "outputs": []
    },
    {
      "cell_type": "code",
      "metadata": {
        "colab": {
          "base_uri": "https://localhost:8080/"
        },
        "id": "v66UNCCFXQsI",
        "outputId": "48d5b04d-be1d-4fc1-9350-b0bdc78b8968"
      },
      "source": [
        "model_history.history"
      ],
      "execution_count": 38,
      "outputs": [
        {
          "output_type": "execute_result",
          "data": {
            "text/plain": [
              "{'loss': [0.37842515110969543,\n",
              "  0.37722331285476685,\n",
              "  0.3759395480155945,\n",
              "  0.3743073642253876,\n",
              "  0.37353748083114624,\n",
              "  0.37194642424583435,\n",
              "  0.37117403745651245,\n",
              "  0.37014201283454895,\n",
              "  0.36896735429763794,\n",
              "  0.3680366575717926,\n",
              "  0.36733731627464294,\n",
              "  0.36627426743507385,\n",
              "  0.36541083455085754,\n",
              "  0.36446720361709595,\n",
              "  0.3637785017490387,\n",
              "  0.36277636885643005,\n",
              "  0.36211004853248596,\n",
              "  0.36175736784935,\n",
              "  0.3606014549732208,\n",
              "  0.36009618639945984,\n",
              "  0.35936447978019714,\n",
              "  0.35869231820106506,\n",
              "  0.35809627175331116,\n",
              "  0.35732075572013855,\n",
              "  0.3566269278526306,\n",
              "  0.3561702072620392,\n",
              "  0.3557795584201813,\n",
              "  0.3550635278224945,\n",
              "  0.3545614182949066,\n",
              "  0.35373562574386597],\n",
              " 'mae': [0.4396880567073822,\n",
              "  0.4384341835975647,\n",
              "  0.43828409910202026,\n",
              "  0.43668320775032043,\n",
              "  0.4361131191253662,\n",
              "  0.4353490471839905,\n",
              "  0.4343856871128082,\n",
              "  0.4339715540409088,\n",
              "  0.4332057237625122,\n",
              "  0.4324438273906708,\n",
              "  0.4316962659358978,\n",
              "  0.4308076798915863,\n",
              "  0.4303329586982727,\n",
              "  0.4294642508029938,\n",
              "  0.42936214804649353,\n",
              "  0.4289493262767792,\n",
              "  0.42824241518974304,\n",
              "  0.4278440475463867,\n",
              "  0.4268241822719574,\n",
              "  0.42647799849510193,\n",
              "  0.4261021018028259,\n",
              "  0.4256969392299652,\n",
              "  0.4258328974246979,\n",
              "  0.42415541410446167,\n",
              "  0.42437615990638733,\n",
              "  0.4237401485443115,\n",
              "  0.42358633875846863,\n",
              "  0.42270609736442566,\n",
              "  0.4225321114063263,\n",
              "  0.42210903763771057],\n",
              " 'val_loss': [0.43618959188461304,\n",
              "  0.43724510073661804,\n",
              "  0.4350648522377014,\n",
              "  0.43587854504585266,\n",
              "  0.43299299478530884,\n",
              "  0.43298575282096863,\n",
              "  0.431973934173584,\n",
              "  0.42950257658958435,\n",
              "  0.4293292164802551,\n",
              "  0.4277152717113495,\n",
              "  0.42776575684547424,\n",
              "  0.4264364242553711,\n",
              "  0.4268646240234375,\n",
              "  0.4267505407333374,\n",
              "  0.4245249032974243,\n",
              "  0.4246893525123596,\n",
              "  0.4244174659252167,\n",
              "  0.42433303594589233,\n",
              "  0.42411327362060547,\n",
              "  0.4229729175567627,\n",
              "  0.42372027039527893,\n",
              "  0.42433980107307434,\n",
              "  0.42180564999580383,\n",
              "  0.42275270819664,\n",
              "  0.4204420745372772,\n",
              "  0.42018917202949524,\n",
              "  0.4190824627876282,\n",
              "  0.4200130105018616,\n",
              "  0.41969409584999084,\n",
              "  0.4199386537075043],\n",
              " 'val_mae': [0.4741075932979584,\n",
              "  0.48095473647117615,\n",
              "  0.47429534792900085,\n",
              "  0.47931668162345886,\n",
              "  0.4750657081604004,\n",
              "  0.47317197918891907,\n",
              "  0.4736734628677368,\n",
              "  0.4695586860179901,\n",
              "  0.4689647853374481,\n",
              "  0.466853529214859,\n",
              "  0.4686311185359955,\n",
              "  0.46740755438804626,\n",
              "  0.47179222106933594,\n",
              "  0.4713211953639984,\n",
              "  0.468946248292923,\n",
              "  0.46828290820121765,\n",
              "  0.46709656715393066,\n",
              "  0.46525412797927856,\n",
              "  0.46568623185157776,\n",
              "  0.4681810438632965,\n",
              "  0.4700663387775421,\n",
              "  0.4718971252441406,\n",
              "  0.45940738916397095,\n",
              "  0.46497902274131775,\n",
              "  0.462516188621521,\n",
              "  0.46422040462493896,\n",
              "  0.4616004526615143,\n",
              "  0.4663132131099701,\n",
              "  0.465917706489563,\n",
              "  0.4627135992050171]}"
            ]
          },
          "metadata": {
            "tags": []
          },
          "execution_count": 38
        }
      ]
    },
    {
      "cell_type": "code",
      "metadata": {
        "colab": {
          "base_uri": "https://localhost:8080/",
          "height": 324
        },
        "id": "ekyKPaksXl8F",
        "outputId": "af152b2f-6c28-4e04-8463-a0e14c6bfeba"
      },
      "source": [
        "#plotting our model performance for visualization\n",
        "pd.DataFrame(model_history.history).plot(figsize =(8,5))\n",
        "plt.grid(True)\n",
        "plt.gca().set_ylim(0, 1)\n",
        "plt.show()"
      ],
      "execution_count": 39,
      "outputs": [
        {
          "output_type": "display_data",
          "data": {
            "image/png": "[encoded data removed]",
            "text/plain": [
              "<Figure size 576x360 with 1 Axes>"
            ]
          },
          "metadata": {
            "tags": [],
            "needs_background": "light"
          }
        }
      ]
    },
    {
      "cell_type": "code",
      "metadata": {
        "id": "UmRfyVaNYpU3"
      },
      "source": [
        "#creatingf new data to check our model prediction\n",
        "X_new = X_test[0:3]"
      ],
      "execution_count": 40,
      "outputs": []
    },
    {
      "cell_type": "code",
      "metadata": {
        "colab": {
          "base_uri": "https://localhost:8080/"
        },
        "id": "821U4-M0akft",
        "outputId": "55a7935a-c776-4fca-e2dc-01ce47bacaaa"
      },
      "source": [
        "#predicting with new data\n",
        "y_pred = model.predict(X_new)\n",
        "print(y_pred) # printing model prediction value \n",
        "print(y_test[0:3]) #printing original value"
      ],
      "execution_count": 41,
      "outputs": [
        {
          "output_type": "stream",
          "text": [
            "[[0.7684608]\n",
            " [1.899613 ]\n",
            " [4.552379 ]]\n",
            "[0.477   0.458   5.00001]\n"
          ],
          "name": "stdout"
        }
      ]
    },
    {
      "cell_type": "code",
      "metadata": {
        "id": "3IMovDCRa7__"
      },
      "source": [
        ""
      ],
      "execution_count": null,
      "outputs": []
    }
  ]
}